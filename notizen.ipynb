{
 "cells": [
  {
   "cell_type": "markdown",
   "metadata": {},
   "source": [
    "# Notizen\n",
    "\n",
    "\n",
    "Allegemine Analyse\n",
    "- Anzahl Flüge pro Jahr /  Monat\n",
    "- Wie viele Airlines\n",
    "- Wie viele Nulls\n",
    "- Anzahl Flüge mit Verspätung (mit Kategorie?)\n",
    "- Folium? Map? (Airport)\n",
    "- distribution of flights across DAY_OF_WEEK\n",
    "- AIRLINE count distribution\n",
    "- Origin Airport Count\n",
    "- Destination Airport Count\n",
    "- Departure_Delay distribution\n",
    "- DEPARTURE_DELAY across months\n",
    "- DEPARTURE_DELAY time across airlines\n",
    "- Anzahl Flüge von X nach Y\n",
    "\n",
    "\n",
    "\n",
    "Mögliche interessante Queries (Unterschied zwischen Marketing & Operating Carrier)\n",
    "\n",
    "- Airline mit geringsten Overdue von X-Y im Monat \"Z\"\n",
    "- Airline mit geringsten Overdue am Ziel-Flughafen X für Monat Z\n",
    "- Airline mit geringstem Overdue im letzten Jahr?\n",
    "- Welche Airlines fliegen von X nach Y?\n",
    "- Ontime by Airport und Scheduled Arrival Time (Welche Uhrzeit fliegen)\n",
    "- Wie viel Verspätung ist zu rechnen von X-Y von Airline Z?\n",
    "- On-Time Abflug und Ankunft?\n",
    "- Welche Airlines haben die geringsten Cancellations? (X nach Y)? Im Monat Z?\n",
    "- Welcher Grund von Delay gab es?\n",
    "- Flüge mit mehr als N Stunden verspätung?\n",
    "- Mishandled Baggage by Airline?\n",
    "- Mishandled Wheelchairs and Scooters?\n",
    "- Passengers Denied Boarding by Airline?\n",
    "\n",
    "\n",
    "Eventuell noch Machine Learninig??\n",
    "- Vorhersage von Verspätung\n",
    "- Vorhersage von Cancellation\n",
    "https://www.kaggle.com/code/diontrevorcastellino/bda-mini-project-flight-delay (mit spark)\n",
    "https://www.kaggle.com/code/asrsaiteja/introduction-to-pyspark-using-flightsdata (mit spark)\n",
    "https://www.kaggle.com/code/sanu12300/2015-flight-delay-cancellation\n"
   ]
  },
  {
   "cell_type": "markdown",
   "metadata": {},
   "source": [
    "Präsentation\n",
    "- Über den Datensatz\n",
    "- Berechnungen aus dem Notebook\n",
    "- Folium Maps noch erstellen"
   ]
  },
  {
   "cell_type": "code",
   "execution_count": null,
   "metadata": {},
   "outputs": [],
   "source": []
  }
 ],
 "metadata": {
  "language_info": {
   "name": "python"
  },
  "orig_nbformat": 4
 },
 "nbformat": 4,
 "nbformat_minor": 2
}
